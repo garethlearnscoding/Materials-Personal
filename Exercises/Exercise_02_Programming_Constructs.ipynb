{
 "cells": [
  {
   "attachments": {},
   "cell_type": "markdown",
   "metadata": {},
   "source": [
    "# Exercise 2\n",
    "\n",
    "Related Notes:\n",
    "- Chapter_01_Data_Types\n",
    "- Chapter_02_Programming_Constructs\n",
    "\n",
    "[![Open In Colab](https://colab.research.google.com/assets/colab-badge.svg)](https://colab.research.google.com/github/njc-cz2-2021/Materials/blob/main/Exercises/Exercise-02-Programming_Constructs.ipynb)"
   ]
  },
  {
   "cell_type": "markdown",
   "metadata": {},
   "source": [
    "# Exercise 2.1 Unit Converter\n",
    " \n",
    "Write a program that helps the user to convert a given quantity from one unit of (distance, area or volume) measurement to another. \n",
    " \n",
    "The problem: \n",
    "-\tRequest a quantity from the user. \n",
    "-\tHave the user specify if the quantity is a `length`, `area` or `volume`. \n",
    "-\tHave the user select the base unit of measurement from the following list: \n",
    "    - `mm`, \n",
    "    - `cm`, \n",
    "    - `m`, or \n",
    "    - `km`. \n",
    "-\tThen have the user select the desired base unit of measurement that the given quantity should be converted to. \n",
    "-\tPrint out converted quantity (including the new unit of measurement). \n",
    " \n",
    "Example interaction: \n",
    "\n",
    ">``` text\n",
    ">Input a quantity: 10 \n",
    ">Select either length, area or volume: area \n",
    ">Select the base unit of measurement (mm, cm, m, km) : m \n",
    ">Select which base unit of measurement to convert to (mm, cm, m, km) : cm \n",
    ">10 m^2 = 100000 cm^2 \n",
    ">```"
   ]
  },
  {
   "cell_type": "code",
   "execution_count": null,
   "metadata": {},
   "outputs": [
    {
     "name": "stdout",
     "output_type": "stream",
     "text": [
      "quantity: 10000\n",
      "Power: 2\n",
      "10m^2 = 1000000cm^2\n"
     ]
    }
   ],
   "source": [
    "quantity_og = int(input(\"Input a quantity: \"))\n",
    "data = input(\"Select either length, area or volume: \")\n",
    "base_unit = input(\"Select the base unit of measurement(mm, cm, m, km): \")\n",
    "conversion_unit = input(\"Select the base unit of measurement to convert to (mm, cm, m, km): \")\n",
    "\n",
    "data_dict = {\"length\":[1,\"\"],\"area\":[2,\"^2\"],\"volume\":[3,\"^3\"]}\n",
    "\n",
    "units_list = data_dict[data_list]\n",
    "\n",
    "print(f\"quantity: {quantity_converted}\")\n",
    "print(f\"Power: {power}\")\n",
    "\n",
    "match conversion_unit:\n",
    "    case \"mm\":\n",
    "        pass\n",
    "    case \"cm\":\n",
    "        quantity_final = quantity_converted/ (0.1**power)\n",
    "    case \"m\":\n",
    "        quantity_final = quantity_converted/(0.001**power)\n",
    "    case \"km\":\n",
    "        quantity_final = quantity_converted / (0.000001**power)\n",
    "\n",
    "match data:\n",
    "    case \"length\":\n",
    "        power = \"\"\n",
    "    case \"area\":\n",
    "        power = \"^2\"\n",
    "    case \"volume\":\n",
    "        power = \"^3\"\n",
    "\n",
    "print(f\"{quantity_og}{base_unit}{power} = {round(quantity_final,)}{conversion_unit}{power}\")"
   ]
  },
  {
   "cell_type": "code",
   "execution_count": null,
   "metadata": {},
   "outputs": [
    {
     "name": "stdout",
     "output_type": "stream",
     "text": [
      "10.0\n"
     ]
    }
   ],
   "source": [
    "#Joan's Solution\n",
    "quantity = int(input(\"Input a quantity: \"))\n",
    "type = input(\"Select either length, area or volume: \")\n",
    "baseUnit = input(\"Select the base unit of measurement (mm, cm, m, km) : \")\n",
    "answerUnit = input(\"Select which base unit of measurement to convert to (mm, cm, m, km) : \")\n",
    "\n",
    "mm = 0.1\n",
    "cm = 1\n",
    "m = 100\n",
    "km = 1000 \n",
    "\n",
    "unitCheck = {\"m\": m, \"cm\":cm, \"mm\": mm, \"km\": km}\n",
    "\n",
    "if type == \"length\":\n",
    "    print(quantity * unitCheck[baseUnit] / unitCheck[answerUnit])\n",
    "elif type == \"area\":\n",
    "    print(quantity * unitCheck[baseUnit]**2 / unitCheck[answerUnit]**2)\n",
    "elif type == \"volume\":\n",
    "    print(quantity * unitCheck[baseUnit]**3 / unitCheck[answerUnit]**3)"
   ]
  },
  {
   "cell_type": "markdown",
   "metadata": {},
   "source": [
    "# Exercise 2.2\n",
    "\n",
    "In mathematics, an **arithmetic sequence** is a sequence of real numbers \n",
    "$$u_1,u_2,\\cdots, u_n$$\n",
    "such that the difference between two consecutive terms is constant, i.e. $u_{n+1}-u_n=d$ for some constant $d\\in \\mathbb{R}$, called the **common difference** and $n\\geq 1$.\n",
    "\n",
    "For example, the sequence $2,5,8,11,14,\\dots$ is an arithmetic sequence with first term $2$ and common difference $3$.\n",
    "\n",
    "Write a program to generate the first $n$ terms of an arithmetic sequence with a user defined first term $a$ and common difference $d$.\n",
    "\n",
    "The problem: \n",
    "- Request a numeric input from the user to be used as the first term.  Let us denote this input as `first_term`.\n",
    "- Request a numeric input from the user to be used as the common difference.  Let us denote this input as `common_difference`.\n",
    "- Request an integer input from the user for the number of terms.  Let us denote this input as `number_of_terms`.\n",
    "- Print out the sequence up to the $n$th term.\n",
    "\n",
    "Example interaction: \n",
    "\n",
    ">```text\n",
    ">Please input the first term in the arithmetic sequence:\n",
    ">2\n",
    ">Please input the common difference:\n",
    ">3\n",
    ">Please input the number of terms:\n",
    ">5\n",
    ">The first 5 terms of the arithmetic sequence are:\n",
    ">2\n",
    ">5\n",
    ">8\n",
    ">11\n",
    ">14\n",
    ">```"
   ]
  },
  {
   "cell_type": "code",
   "execution_count": null,
   "metadata": {},
   "outputs": [
    {
     "name": "stdout",
     "output_type": "stream",
     "text": [
      "The first 4 terms of the arithmetic sequence are:\n",
      "2\n",
      "5\n",
      "8\n",
      "11\n"
     ]
    }
   ],
   "source": [
    "term = int(input(\"PLease input the first term in the arithmetic sequence: \"))\n",
    "common_difference = int(input(\"Please input the common difference: \"))\n",
    "number_of_terms = int(input(\"Please input the number of terms: \"))\n",
    "term_list=[]\n",
    "\n",
    "for i in range(number_of_terms):\n",
    "    term_list.append(term)\n",
    "    term += common_difference\n",
    "    \n",
    "\n",
    "print(f\"The first {number_of_terms} terms of the arithmetic sequence are:\")\n",
    "for i in term_list:\n",
    "    print(i)\n",
    "        "
   ]
  },
  {
   "cell_type": "markdown",
   "metadata": {},
   "source": [
    "# Exercise 2.3\n",
    "\n",
    "Given an arithmetic sequence with first term $a$ and common difference $d$.\n",
    "\n",
    "Write a program that:\n",
    "- Request a numeric input from the user to be used as the first term.  Let us denote this input as `first_term`.\n",
    "- Request a numeric input from the user to be used as the common difference.  Let us denote this input as `common_difference`.\n",
    "- Request an integer input from the user for the index for the term in the sequence.  Let us denote this input as `n`.\n",
    "- Print out the $n$th term in the sequence.\n",
    "- Print out the sum of the first $n$ terms in the sequence.\n",
    "\n",
    "Example interaction: \n",
    "\n",
    ">```text\n",
    ">Please input the first term in the arithmetic sequence:\n",
    ">2\n",
    ">Please input the common difference:\n",
    ">3\n",
    ">Please input the index :\n",
    ">5\n",
    ">The 5th term in the sequence is:\n",
    ">14\n",
    ">The sum of the first 5 terms in the sequence is:\n",
    ">40\n",
    ">```"
   ]
  },
  {
   "cell_type": "code",
   "execution_count": 5,
   "metadata": {},
   "outputs": [
    {
     "name": "stdout",
     "output_type": "stream",
     "text": [
      "The 5th term in the sequence is: \n",
      "14\n",
      "The sum of the first 5 terms of the arithmetic sequence are:\n",
      "40\n"
     ]
    }
   ],
   "source": [
    "term = int(input(\"PLease input the first term in the arithmetic sequence: \"))\n",
    "common_difference = int(input(\"Please input the common difference: \"))\n",
    "number_of_terms = int(input(\"Please input the number of terms: \"))\n",
    "term_list = []\n",
    "match (str(number_of_terms)[-1::]):\n",
    "    case \"1\":\n",
    "        sound = \"st\"\n",
    "    case \"2\":\n",
    "        sound = \"nd\"\n",
    "    case \"3\":\n",
    "        sound = \"rd\"\n",
    "    case _:\n",
    "        sound = \"th\"\n",
    "\n",
    "\n",
    "for i in range(number_of_terms):\n",
    "    term_list.append(term)\n",
    "    term += common_difference\n",
    "    \n",
    "\n",
    "\n",
    "print(f\"The {number_of_terms}{sound} term in the sequence is: \")\n",
    "print(term_list[number_of_terms-1])\n",
    "print(f\"The sum of the first {number_of_terms} terms of the arithmetic sequence are:\")\n",
    "print(sum(term_list))\n",
    "\n"
   ]
  },
  {
   "cell_type": "markdown",
   "metadata": {},
   "source": [
    "# Exercise 2.4\n",
    "\n",
    "An arithmetic sequence $u_1, u_2, u_3, \\cdots$ is defined by $u_r=3r-1$ for $r\\in \\mathbb{Z}^{+}$. Find the least value of $n$ such that $u_3+u_6+u_9+\\cdots+u_n$ exceeds $1700$, where $n$ is a multiple of 3. "
   ]
  },
  {
   "cell_type": "code",
   "execution_count": null,
   "metadata": {},
   "outputs": [
    {
     "name": "stdout",
     "output_type": "stream",
     "text": [
      "63\n"
     ]
    }
   ],
   "source": [
    "n = 0\n",
    "summation = 0\n",
    "while summation < 1700:\n",
    "    n +=3\n",
    "    summation += 3*n-1\n",
    "    print(n)\n",
    "    print(summation)\n",
    "\n",
    "print(n)"
   ]
  },
  {
   "cell_type": "markdown",
   "metadata": {},
   "source": [
    "# Exercise 2.5 2012/GCE A-Level/P2/Q4(i) H2 Mathematics\n",
    "\n",
    "On 1 January 2001 Mrs $A$ put \\$100 into a bank account, and on the first day of each subsequent month she put in \\$10 more than in the previous month. Thus on 1 February she put \\$110 into the account and on 1 March she put \\$120 into the account, and so on. The account pays no interest.\n",
    "\n",
    "On what date did the value of Mrs $A$'s account first become greater than $5000?"
   ]
  },
  {
   "cell_type": "code",
   "execution_count": null,
   "metadata": {},
   "outputs": [],
   "source": [
    "account_balance_per_month = [100]\n",
    "while sum(account_balance_per_month) < 5000:\n",
    "    deposit = account_balance_per_month[-1] +10\n",
    "    account_balance_per_month.append(deposit)\n",
    "number_of_months = len(account_balance_per_month) - 1\n",
    "number_of_years = number_of_months // 12\n",
    "number_of_months_passed = number_of_months % 12\n",
    "year = 2001 + number_of_years\n",
    "month_dict = {0:\"January\",1:\"Feburary\",2:\"March\",3:\"April\",4:\"May\",5:\"June\",6:\"July\",7:\"August\",8:\"September\",9:\"October\",10:\"November\",11:\"December\"}\n",
    "month = month_dict[number_of_months_passed]\n",
    "print(f\"1 {month} {year}\")"
   ]
  },
  {
   "cell_type": "markdown",
   "metadata": {},
   "source": [
    "## Exercise 2.6 Power\n",
    " \n",
    "Write a program that prints out the first $m$ numbers that can be written as a positive integer taken to the power $n$. \n",
    "\n",
    "Example interaction: \n",
    "\n",
    ">``` text\n",
    ">Input the number of terms, m: 5 \n",
    ">Input the n-th power: 3 \n",
    ">1\n",
    ">8\n",
    ">27\n",
    ">64\n",
    ">125\n",
    ">```"
   ]
  },
  {
   "cell_type": "code",
   "execution_count": null,
   "metadata": {},
   "outputs": [],
   "source": [
    "no_of_terms = int(input(\"Input the number of terms, m: \"))\n",
    "nth_power = int(input(\"Input the n-th power, n: \"))\n",
    "for i in range(1,no_of_terms+1):\n",
    "    print(i**nth_power)"
   ]
  },
  {
   "cell_type": "markdown",
   "metadata": {},
   "source": [
    "## Exercise 2.7 Guess The Secret Number\n",
    " \n",
    "Write a program that stores a secret integer in a variable. The user has to guess the secret integer, the program should loop until they get it right.\n",
    "\n",
    "The problem: \n",
    "-   Decide on a secret integer between 1 and 100 inclusive yourself.\n",
    "-\tRequest an integer from the user. \n",
    "-\tif the user inputted a value that is too high, print 'Your number is too high. Try again.' and the program loops\n",
    "-   if the user inputted a value that is too low, print 'Your number is too low. Try again.' and the program loops\n",
    "-   if the user inputted a value that is the same as the secret integer, print 'Congratulations. You guessed correctly.' and the program ends.\n",
    "\n",
    "Example interaction: \n",
    "\n",
    ">``` text\n",
    ">#Secret number is 31\n",
    ">Input a quantity: 37 \n",
    ">Your number is too high. Try again. \n",
    ">Input a quantity: 25 \n",
    ">Your number is too low. Try again.\n",
    ">Input a quantity: 31 \n",
    ">Congratulations. You guessed correctly.\n",
    ">```"
   ]
  },
  {
   "cell_type": "code",
   "execution_count": null,
   "metadata": {},
   "outputs": [],
   "source": [
    "from random import randint\n",
    "\n",
    "secret_number = randint(1,100)\n",
    "\n",
    "while True:\n",
    "    answer = int(input(\"Input a quantity: \"))\n",
    "    if answer == secret_number:\n",
    "        print(\"Congratulations. You guessed correctly.\")\n",
    "        break\n",
    "    elif answer > secret_number:\n",
    "        print(\"Your number is too high. Try again\")\n",
    "    elif answer < secret_number:\n",
    "        print(\"Your number is too low. Try again.\")"
   ]
  },
  {
   "cell_type": "markdown",
   "metadata": {},
   "source": [
    "## Exercise 2.8\n",
    "\n",
    "In mathematics, a **geometric sequence** is a sequence of real numbers \n",
    "$$u_1,u_2,\\cdots, u_n$$\n",
    "such that the ratio between two consecutive terms is constant, i.e. $\\frac{u_{n+1}}{u_n}=r$ for some constant $r\\in \\mathbb{R}\\backslash \\{0,1\\}$, called the **common ratio** and $n\\geq 1$.\n",
    "\n",
    "For example, the sequence $2,6,18,54,162,\\dots$ is an geometric sequence with first term $2$ and common ratio $3$.\n",
    "\n",
    "Write a program to generate the first $n$ terms of an geometric sequence with a user defined first term $a$ and common ratio $r$.\n",
    "\n",
    "The problem: \n",
    "- Request a numeric input from the user to be used as the first term.  Let us denote this input as `first_term`.\n",
    "- Request a numeric input from the user to be used as the common difference.  Let us denote this input as `common_ratio`.\n",
    "- Request an integer input from the user for the number of terms.  Let us denote this input as `number_of_terms`.\n",
    "- Print out the sequence up to the $n$th term.\n",
    "\n",
    "Example interaction: \n",
    "\n",
    ">```text\n",
    ">Please input the first term in the geometric sequence:\n",
    ">2\n",
    ">Please input the common ratio:\n",
    ">3\n",
    ">Please input the number of terms:\n",
    ">5\n",
    ">The first 5 terms of the geometric sequence are:\n",
    ">2\n",
    ">6\n",
    ">18\n",
    ">54\n",
    ">162\n",
    ">```"
   ]
  },
  {
   "cell_type": "code",
   "execution_count": null,
   "metadata": {},
   "outputs": [],
   "source": [
    "first_term = input(\"Please input the first term in the geometric sequence: \")\n",
    "common_ratio = int(input(\"Please input the common ratio\"))\n",
    "no_of_terms = int(input(\"Please input the number of terms: \"))\n",
    "term_list = [first_term]\n",
    "while len(term_list) < no_of_terms:\n",
    "    new = int(term_list[-1]) * common_ratio\n",
    "    term_list.append(str(new))\n",
    "print(f\"The first {no_of_terms} terms of the geometric sequence are:\")\n",
    "print(\"\\n\".join(term_list))"
   ]
  },
  {
   "cell_type": "markdown",
   "metadata": {},
   "source": [
    "## Exercise 2.9\n",
    "\n",
    "Given a geometric sequence with first term $a$ and common ratio $r$.\n",
    "\n",
    "Write a program that:\n",
    "- Request a numeric input from the user to be used as the first term.  Let us denote this input as `first_term`.\n",
    "- Request a numeric input from the user to be used as the common difference.  Let us denote this input as `common_ratio`.\n",
    "- Request an integer input from the user for the index for the term in the sequence.  Let us denote this input as `n`.\n",
    "- Print out the $n$th term in the sequence.\n",
    "- Print out the sum of the first $n$ terms in the sequence.\n",
    "\n",
    "Example interaction: \n",
    "\n",
    ">```text\n",
    ">Please input the first term in the geometric sequence:\n",
    ">2\n",
    ">Please input the common ratio:\n",
    ">3\n",
    ">Please input the index :\n",
    ">5\n",
    ">The 5th term in the sequence is:\n",
    ">162\n",
    ">The sum of the first 5 terms in the sequence is:\n",
    ">242\n",
    ">```"
   ]
  },
  {
   "cell_type": "code",
   "execution_count": null,
   "metadata": {},
   "outputs": [],
   "source": [
    "first_term = int(input(\"Please input the first term in the geometric sequence: \"))\n",
    "common_ratio = int(input(\"Please input the common ratio\"))\n",
    "no_of_terms = int(input(\"Please input the index: \"))\n",
    "term_list = [first_term]\n",
    "sound_dict = {\"1\":\"st\",\"2\":\"nd\",\"3\":\"rd\"}\n",
    "\n",
    "while len(term_list) < no_of_terms:\n",
    "    new = term_list[-1] * common_ratio\n",
    "    term_list.append(new)\n",
    "\n",
    "try:\n",
    "    sound = sound_dict[str(no_of_terms[-1])]\n",
    "except KeyError:\n",
    "    sound = \"th\"\n",
    "\n",
    "\n",
    "print(f\"The {no_of_terms}{sound} term of the geometric sequence is:\")\n",
    "print(term_list[-1])\n",
    "\n",
    "print(f\"The sum of the first {no_of_terms} in the sequence is:\")\n",
    "print(sum(term_list))"
   ]
  },
  {
   "cell_type": "markdown",
   "metadata": {},
   "source": [
    "## Exercise 2.10\n",
    "\n",
    "Given a geometric sequence with first term $1$ and common ratio $r$. Find the sum of the first 100 terms of the sequence if:\n",
    "- $r=2$ \n",
    "- $r=\\frac{1}{2}$ \n",
    "- $r=-3$ \n",
    "- $r=-\\frac{5}{6}$ \n",
    "- $r=4.1$\n",
    "- $r=0.7$\n",
    "\n",
    "What can you conclude about the relationship between the common ratio of the geometric sequence with the sum of the first $n$ terms of the geometric sequence as $n$ grows larger and larger? i.e., as $n\\rightarrow \\infty$. You might want to try with more values of $r$."
   ]
  },
  {
   "cell_type": "code",
   "execution_count": null,
   "metadata": {},
   "outputs": [],
   "source": [
    "ratio_list = [2,0.5,-3,(-5/6),4.1,0.7]\n",
    "\n",
    "for common_ratio in ratio_list:\n",
    "    first_term = 1\n",
    "    term_list = [first_term]\n",
    "    while len(term_list) < 100:\n",
    "        new = term_list[-1]*common_ratio\n",
    "        term_list.append(new)\n",
    "    summation = round(sum(term_list),2)\n",
    "    print(f\"\\n{\"Common ratio:\":<20} {common_ratio} \\n{\"Summation:\":<20} {summation}\")"
   ]
  },
  {
   "cell_type": "markdown",
   "metadata": {},
   "source": [
    "## Exercise 2.11 2019/NJC Tutorial/APGP/QB8 H2 Mathematics (Modified)\n",
    "\n",
    "An athlete is considering two plans for a training program.\n",
    "\n",
    "Plan I: Run 2000 m on day 1, 2400 m on day 2, and on each successive day increase the distance run by 400 m.\n",
    "\n",
    "Plan II: Run 2000 m on day 1, 2200 m on day 2, and on each successive day multiply the distance run by a constant factor $\\frac{11}{10}$.\n",
    "\n",
    "- **(a)** For Plan I, find the least value of $n$ for which the total distance run on days 1 to $n$, inclusive, exceeds 200 000 m.\n",
    "\n",
    "- **(b)** For Plan II, find the least value of N for which the distance run on day $N$ exceeds 16 000.\n",
    "\n",
    "- **(c)** Assume that athlete $A$ decided to go with Plan I and another athlete $B$ decided to with Plan II, when will athlete $B$'s total distance run first exceeds athlete $A$'s total distance run? "
   ]
  },
  {
   "cell_type": "code",
   "execution_count": null,
   "metadata": {},
   "outputs": [],
   "source": [
    "first_dist = 2000\n",
    "dist_list_a = [first_dist]\n",
    "dist_list_b = [first_dist]\n",
    "check_a = 0\n",
    "check_b = 0\n",
    "check_c = 0\n",
    "\n",
    "while (check_a ==0) or (check_b  == 0) or (check_c == 0):\n",
    "    if (sum(dist_list_a) > 200000) and (check_a !=1):\n",
    "        n_a = len(dist_list_a)\n",
    "        check_a = 1\n",
    "    new_a = dist_list_a[-1]+400\n",
    "    dist_list_a.append(new_a)\n",
    "    new_b = dist_list_b[-1]*(11/10)\n",
    "    if (new_b > 16000) and (check_b != 1):\n",
    "        n_b = len(dist_list_b)\n",
    "        check_b = 1\n",
    "    dist_list_b.append(new_b)\n",
    "    if (sum(dist_list_b) > sum(dist_list_a)) and (check_c != 1):\n",
    "        n_c = len(dist_list_b)\n",
    "        check_c = 1\n",
    "n_c = len(dist_list_b)    \n",
    "print(f\"\\n(a) \\nn={n_a}\")\n",
    "print(f\"\\n(b) \\nn={n_b}\")\n",
    "print(f\"\\n(c) \\nn={n_c}\")\n",
    "\n",
    "\n",
    "##########################################################\n",
    "\n",
    "print(\"Part A:\")\n",
    "first_dist = 2000\n",
    "dist_list = [first_dist]\n",
    "while sum(dist_list) < 200000:\n",
    "    new_day = dist_list[-1]+400\n",
    "    dist_list.append(new_day)\n",
    "print(len(dist_list))\n",
    "\n",
    "print(\"\\nPart B:\")\n",
    "first_dist = 2000\n",
    "dist_list = [first_dist]\n",
    "while True:\n",
    "    new_day = dist_list[-1]*(11/10)\n",
    "    if new_day >16000:\n",
    "        break\n",
    "    else:\n",
    "        dist_list.append(new_day)\n",
    "print(len(dist_list))\n",
    "\n",
    "print(\"\\nPart C:\")\n",
    "first_dist = 2000\n",
    "dist_list_a = [first_dist]\n",
    "dist_list_b = [first_dist]\n",
    "\n",
    "while (sum(dist_list_b) <= sum(dist_list_a)):\n",
    "    new_a = dist_list_a[-1]+400\n",
    "    dist_list_a.append(new_day)\n",
    "    new_b = dist_list_b[-1]*(11/10)\n",
    "    dist_list_b.append(new_b)\n",
    "print(len(dist_list_b))"
   ]
  }
 ],
 "metadata": {
  "kernelspec": {
   "display_name": "Python 3",
   "language": "python",
   "name": "python3"
  },
  "language_info": {
   "codemirror_mode": {
    "name": "ipython",
    "version": 3
   },
   "file_extension": ".py",
   "mimetype": "text/x-python",
   "name": "python",
   "nbconvert_exporter": "python",
   "pygments_lexer": "ipython3",
   "version": "3.13.2"
  },
  "orig_nbformat": 2,
  "vscode": {
   "interpreter": {
    "hash": "a42ccb73e7d9bfdf27e036f1d2b8b681e55fc0743cc5586bc2474d4a60f4b886"
   }
  }
 },
 "nbformat": 4,
 "nbformat_minor": 2
}
